{
  "nbformat": 4,
  "nbformat_minor": 0,
  "metadata": {
    "colab": {
      "provenance": [],
      "authorship_tag": "ABX9TyO+4g61NZmSWoQ6qu81MQlg",
      "include_colab_link": true
    },
    "kernelspec": {
      "name": "python3",
      "display_name": "Python 3"
    },
    "language_info": {
      "name": "python"
    }
  },
  "cells": [
    {
      "cell_type": "markdown",
      "metadata": {
        "id": "view-in-github",
        "colab_type": "text"
      },
      "source": [
        "<a href=\"https://colab.research.google.com/github/saksham-v25/ML/blob/main/K-means/big_basket_recommendation.ipynb\" target=\"_parent\"><img src=\"https://colab.research.google.com/assets/colab-badge.svg\" alt=\"Open In Colab\"/></a>"
      ]
    },
    {
      "cell_type": "code",
      "execution_count": null,
      "metadata": {
        "id": "nBvk6oaoNd23"
      },
      "outputs": [],
      "source": [
        "import pandas as pd\n",
        "from sklearn.feature_extraction.text import TfidfVectorizer\n",
        "from sklearn.metrics.pairwise import cosine_similarity\n",
        "from difflib import get_close_matches\n"
      ]
    },
    {
      "cell_type": "code",
      "source": [
        "# Load your full dataset\n",
        "df = pd.read_csv(\"/content/BigBasket Products.csv\")  # Replace with actual file path or upload\n",
        "\n",
        "# Sample only 5000 rows to avoid memory crash\n",
        "df = df.sample(n=5000, random_state=42).reset_index(drop=True)\n"
      ],
      "metadata": {
        "id": "B91l25JGNsXL"
      },
      "execution_count": null,
      "outputs": []
    },
    {
      "cell_type": "code",
      "source": [
        "# Drop rows where product name is missing (NaN)\n",
        "df = df[df['product'].notnull()]\n",
        "\n",
        "# Convert all product names to string\n",
        "df['product'] = df['product'].astype(str)\n"
      ],
      "metadata": {
        "colab": {
          "base_uri": "https://localhost:8080/"
        },
        "id": "QHFbtMFZOqn_",
        "outputId": "627ea348-7bfe-48be-c132-511c83002962"
      },
      "execution_count": null,
      "outputs": [
        {
          "output_type": "stream",
          "name": "stderr",
          "text": [
            "<ipython-input-3-107b286bbab7>:5: SettingWithCopyWarning: \n",
            "A value is trying to be set on a copy of a slice from a DataFrame.\n",
            "Try using .loc[row_indexer,col_indexer] = value instead\n",
            "\n",
            "See the caveats in the documentation: https://pandas.pydata.org/pandas-docs/stable/user_guide/indexing.html#returning-a-view-versus-a-copy\n",
            "  df['product'] = df['product'].astype(str)\n"
          ]
        }
      ]
    },
    {
      "cell_type": "code",
      "source": [
        "# Combine relevant text fields\n",
        "df['features'] = (df['product'].astype(str) + \" \" +\n",
        "                  df['category'].astype(str) + \" \" +\n",
        "                  df['description'].astype(str)).str.lower()\n"
      ],
      "metadata": {
        "id": "6vm9YdKSOFiv",
        "colab": {
          "base_uri": "https://localhost:8080/",
          "height": 193
        },
        "outputId": "b1b2ebf6-4c0b-4b80-eb64-6136caf193db"
      },
      "execution_count": 1,
      "outputs": [
        {
          "output_type": "error",
          "ename": "NameError",
          "evalue": "name 'df' is not defined",
          "traceback": [
            "\u001b[0;31m---------------------------------------------------------------------------\u001b[0m",
            "\u001b[0;31mNameError\u001b[0m                                 Traceback (most recent call last)",
            "\u001b[0;32m/tmp/ipython-input-1036515631.py\u001b[0m in \u001b[0;36m<cell line: 0>\u001b[0;34m()\u001b[0m\n\u001b[1;32m      1\u001b[0m \u001b[0;31m# Combine relevant text fields\u001b[0m\u001b[0;34m\u001b[0m\u001b[0;34m\u001b[0m\u001b[0m\n\u001b[0;32m----> 2\u001b[0;31m df['features'] = (df['product'].astype(str) + \" \" +\n\u001b[0m\u001b[1;32m      3\u001b[0m                   \u001b[0mdf\u001b[0m\u001b[0;34m[\u001b[0m\u001b[0;34m'category'\u001b[0m\u001b[0;34m]\u001b[0m\u001b[0;34m.\u001b[0m\u001b[0mastype\u001b[0m\u001b[0;34m(\u001b[0m\u001b[0mstr\u001b[0m\u001b[0;34m)\u001b[0m \u001b[0;34m+\u001b[0m \u001b[0;34m\" \"\u001b[0m \u001b[0;34m+\u001b[0m\u001b[0;34m\u001b[0m\u001b[0;34m\u001b[0m\u001b[0m\n\u001b[1;32m      4\u001b[0m                   df['description'].astype(str)).str.lower()\n",
            "\u001b[0;31mNameError\u001b[0m: name 'df' is not defined"
          ]
        }
      ]
    },
    {
      "cell_type": "code",
      "source": [
        "tfidf = TfidfVectorizer(stop_words='english', max_df=0.8, min_df=5, max_features=10000)\n",
        "tfidf_matrix = tfidf.fit_transform(df['features'])\n"
      ],
      "metadata": {
        "id": "KDCJIyFpOIrW"
      },
      "execution_count": null,
      "outputs": []
    },
    {
      "cell_type": "code",
      "source": [
        "cosine_sim = cosine_similarity(tfidf_matrix, tfidf_matrix)\n",
        "\n"
      ],
      "metadata": {
        "id": "DlpZPif5OLCD"
      },
      "execution_count": null,
      "outputs": []
    },
    {
      "cell_type": "code",
      "source": [
        "def recommend_products(product_name, num_recommendations=5):\n",
        "    product_list = df['product'].str.lower().tolist()\n",
        "    close_matches = get_close_matches(product_name.lower(), product_list, n=1, cutoff=0.6)\n",
        "\n",
        "    if not close_matches:\n",
        "        return [\"No similar products found.\"]\n",
        "\n",
        "    matched_product = close_matches[0]\n",
        "    product_idx = df[df['product'].str.lower() == matched_product].index[0]\n",
        "\n",
        "    similarity_scores = list(enumerate(cosine_sim[product_idx]))\n",
        "    similarity_scores = sorted(similarity_scores, key=lambda x: x[1], reverse=True)\n",
        "\n",
        "    recommendations = []\n",
        "    for i in similarity_scores[1:num_recommendations + 1]:\n",
        "        recommended_product = df.iloc[i[0]]['product']\n",
        "        recommendations.append(recommended_product)\n",
        "\n",
        "    return recommendations\n"
      ],
      "metadata": {
        "id": "Kar0Bi8pOQEi"
      },
      "execution_count": null,
      "outputs": []
    },
    {
      "cell_type": "code",
      "source": [
        "product_name = \"Mango\"  # Try variations like \"soap\", \"tea\", \"chips\"\n",
        "recommendations = recommend_products(product_name)\n",
        "\n",
        "print(f\"\\nTop recommendations for '{product_name}':\")\n",
        "for rec in recommendations:\n",
        "    print(\"-\", rec)\n"
      ],
      "metadata": {
        "colab": {
          "base_uri": "https://localhost:8080/"
        },
        "id": "5T3v80EmOTJ3",
        "outputId": "191e0e30-8b1c-42a3-c572-2596e1b84c00"
      },
      "execution_count": null,
      "outputs": [
        {
          "output_type": "stream",
          "name": "stdout",
          "text": [
            "\n",
            "Top recommendations for 'Mango':\n",
            "- Tru Orange\n",
            "- Fruit Power Juice - Mango/Aam\n",
            "- FrutORS - Orange\n",
            "- Soft Drink - Lime Flavoured 2.25l+Mango drink 600ml\n",
            "- Fruit Power - Litchi\n"
          ]
        }
      ]
    },
    {
      "cell_type": "markdown",
      "source": [
        "PHASE 2"
      ],
      "metadata": {
        "id": "tmBC0T_FPKDE"
      }
    },
    {
      "cell_type": "code",
      "source": [
        "# Downgrade NumPy to avoid crashes with Surprise\n",
        "!pip install numpy==1.24.3\n",
        "!pip install scikit-surprise\n"
      ],
      "metadata": {
        "colab": {
          "base_uri": "https://localhost:8080/"
        },
        "id": "ZyBwtnz2PPUU",
        "outputId": "a865b2ae-c0f6-42b9-a0dc-7892d449ed37"
      },
      "execution_count": null,
      "outputs": [
        {
          "output_type": "stream",
          "name": "stdout",
          "text": [
            "Requirement already satisfied: numpy==1.24.3 in /usr/local/lib/python3.11/dist-packages (1.24.3)\n",
            "Collecting scikit-surprise\n",
            "  Using cached scikit_surprise-1.1.4.tar.gz (154 kB)\n",
            "  Installing build dependencies ... \u001b[?25l\u001b[?25hdone\n",
            "  Getting requirements to build wheel ... \u001b[?25l\u001b[?25hdone\n",
            "  Preparing metadata (pyproject.toml) ... \u001b[?25l\u001b[?25hdone\n",
            "Requirement already satisfied: joblib>=1.2.0 in /usr/local/lib/python3.11/dist-packages (from scikit-surprise) (1.4.2)\n",
            "Requirement already satisfied: numpy>=1.19.5 in /usr/local/lib/python3.11/dist-packages (from scikit-surprise) (1.24.3)\n",
            "Requirement already satisfied: scipy>=1.6.0 in /usr/local/lib/python3.11/dist-packages (from scikit-surprise) (1.14.1)\n",
            "Building wheels for collected packages: scikit-surprise\n",
            "  Building wheel for scikit-surprise (pyproject.toml) ... \u001b[?25l\u001b[?25hdone\n",
            "  Created wheel for scikit-surprise: filename=scikit_surprise-1.1.4-cp311-cp311-linux_x86_64.whl size=2505209 sha256=9034ca4013aa293c5681c481c250702296cbe53a3918059fa68b216004c255e0\n",
            "  Stored in directory: /root/.cache/pip/wheels/2a/8f/6e/7e2899163e2d85d8266daab4aa1cdabec7a6c56f83c015b5af\n",
            "Successfully built scikit-surprise\n",
            "Installing collected packages: scikit-surprise\n",
            "Successfully installed scikit-surprise-1.1.4\n"
          ]
        }
      ]
    },
    {
      "cell_type": "code",
      "source": [
        "from surprise import Dataset, Reader, SVD\n",
        "from surprise.model_selection import train_test_split\n",
        "from surprise import accuracy\n",
        "import pandas as pd\n"
      ],
      "metadata": {
        "id": "pWdseMrLPwN6"
      },
      "execution_count": null,
      "outputs": []
    },
    {
      "cell_type": "code",
      "source": [
        "!pip uninstall -y numpy scikit-surprise\n"
      ],
      "metadata": {
        "colab": {
          "base_uri": "https://localhost:8080/"
        },
        "id": "50qlgIviQsiK",
        "outputId": "eedaef28-7c4e-41a2-c16e-18caaa96bb2d"
      },
      "execution_count": null,
      "outputs": [
        {
          "output_type": "stream",
          "name": "stdout",
          "text": [
            "Found existing installation: numpy 1.24.3\n",
            "Uninstalling numpy-1.24.3:\n",
            "  Successfully uninstalled numpy-1.24.3\n",
            "Found existing installation: scikit-surprise 1.1.4\n",
            "Uninstalling scikit-surprise-1.1.4:\n",
            "  Successfully uninstalled scikit-surprise-1.1.4\n"
          ]
        }
      ]
    },
    {
      "cell_type": "code",
      "source": [
        "#!pip install numpy==1.24.3 scikit-surprise --no-cache-dir --force-reinstall\n"
      ],
      "metadata": {
        "colab": {
          "base_uri": "https://localhost:8080/",
          "height": 879
        },
        "id": "VSshqd1lRswP",
        "outputId": "c7dfda11-1926-465a-d478-27c29b94802c"
      },
      "execution_count": null,
      "outputs": [
        {
          "output_type": "stream",
          "name": "stdout",
          "text": [
            "Collecting numpy==1.24.3\n",
            "  Downloading numpy-1.24.3-cp311-cp311-manylinux_2_17_x86_64.manylinux2014_x86_64.whl.metadata (5.6 kB)\n",
            "Collecting scikit-surprise\n",
            "  Downloading scikit_surprise-1.1.4.tar.gz (154 kB)\n",
            "\u001b[2K     \u001b[90m━━━━━━━━━━━━━━━━━━━━━━━━━━━━━━━━━━━━━━━━\u001b[0m \u001b[32m154.4/154.4 kB\u001b[0m \u001b[31m4.1 MB/s\u001b[0m eta \u001b[36m0:00:00\u001b[0m\n",
            "\u001b[?25h  Installing build dependencies ... \u001b[?25l\u001b[?25hdone\n",
            "  Getting requirements to build wheel ... \u001b[?25l\u001b[?25hdone\n",
            "  Preparing metadata (pyproject.toml) ... \u001b[?25l\u001b[?25hdone\n",
            "Collecting joblib>=1.2.0 (from scikit-surprise)\n",
            "  Downloading joblib-1.4.2-py3-none-any.whl.metadata (5.4 kB)\n",
            "Collecting scipy>=1.6.0 (from scikit-surprise)\n",
            "  Downloading scipy-1.15.2-cp311-cp311-manylinux_2_17_x86_64.manylinux2014_x86_64.whl.metadata (61 kB)\n",
            "\u001b[2K     \u001b[90m━━━━━━━━━━━━━━━━━━━━━━━━━━━━━━━━━━━━━━━━\u001b[0m \u001b[32m62.0/62.0 kB\u001b[0m \u001b[31m124.7 MB/s\u001b[0m eta \u001b[36m0:00:00\u001b[0m\n",
            "\u001b[?25hDownloading numpy-1.24.3-cp311-cp311-manylinux_2_17_x86_64.manylinux2014_x86_64.whl (17.3 MB)\n",
            "\u001b[2K   \u001b[90m━━━━━━━━━━━━━━━━━━━━━━━━━━━━━━━━━━━━━━━━\u001b[0m \u001b[32m17.3/17.3 MB\u001b[0m \u001b[31m154.8 MB/s\u001b[0m eta \u001b[36m0:00:00\u001b[0m\n",
            "\u001b[?25hDownloading joblib-1.4.2-py3-none-any.whl (301 kB)\n",
            "\u001b[2K   \u001b[90m━━━━━━━━━━━━━━━━━━━━━━━━━━━━━━━━━━━━━━━━\u001b[0m \u001b[32m301.8/301.8 kB\u001b[0m \u001b[31m185.7 MB/s\u001b[0m eta \u001b[36m0:00:00\u001b[0m\n",
            "\u001b[?25hDownloading scipy-1.15.2-cp311-cp311-manylinux_2_17_x86_64.manylinux2014_x86_64.whl (37.6 MB)\n",
            "\u001b[2K   \u001b[90m━━━━━━━━━━━━━━━━━━━━━━━━━━━━━━━━━━━━━━━━\u001b[0m \u001b[32m37.6/37.6 MB\u001b[0m \u001b[31m257.5 MB/s\u001b[0m eta \u001b[36m0:00:00\u001b[0m\n",
            "\u001b[?25hBuilding wheels for collected packages: scikit-surprise\n",
            "  Building wheel for scikit-surprise (pyproject.toml) ... \u001b[?25l\u001b[?25hdone\n",
            "  Created wheel for scikit-surprise: filename=scikit_surprise-1.1.4-cp311-cp311-linux_x86_64.whl size=2505217 sha256=079a5c774969d37cbb585ba071e59a8a6c386a96593734d5182fbc437067f67f\n",
            "  Stored in directory: /tmp/pip-ephem-wheel-cache-yrilbx1w/wheels/2a/8f/6e/7e2899163e2d85d8266daab4aa1cdabec7a6c56f83c015b5af\n",
            "Successfully built scikit-surprise\n",
            "Installing collected packages: numpy, joblib, scipy, scikit-surprise\n",
            "  Attempting uninstall: joblib\n",
            "    Found existing installation: joblib 1.4.2\n",
            "    Uninstalling joblib-1.4.2:\n",
            "      Successfully uninstalled joblib-1.4.2\n",
            "  Attempting uninstall: scipy\n",
            "    Found existing installation: scipy 1.15.2\n",
            "    Uninstalling scipy-1.15.2:\n",
            "      Successfully uninstalled scipy-1.15.2\n",
            "\u001b[31mERROR: pip's dependency resolver does not currently take into account all the packages that are installed. This behaviour is the source of the following dependency conflicts.\n",
            "blosc2 3.2.1 requires numpy>=1.26, but you have numpy 1.24.3 which is incompatible.\n",
            "jax 0.5.2 requires numpy>=1.25, but you have numpy 1.24.3 which is incompatible.\n",
            "albumentations 2.0.5 requires numpy>=1.24.4, but you have numpy 1.24.3 which is incompatible.\n",
            "albucore 0.0.23 requires numpy>=1.24.4, but you have numpy 1.24.3 which is incompatible.\n",
            "pymc 5.21.1 requires numpy>=1.25.0, but you have numpy 1.24.3 which is incompatible.\n",
            "tensorflow 2.18.0 requires numpy<2.1.0,>=1.26.0, but you have numpy 1.24.3 which is incompatible.\n",
            "treescope 0.1.9 requires numpy>=1.25.2, but you have numpy 1.24.3 which is incompatible.\n",
            "jaxlib 0.5.1 requires numpy>=1.25, but you have numpy 1.24.3 which is incompatible.\u001b[0m\u001b[31m\n",
            "\u001b[0mSuccessfully installed joblib-1.4.2 numpy-1.24.3 scikit-surprise-1.1.4 scipy-1.15.2\n"
          ]
        },
        {
          "output_type": "display_data",
          "data": {
            "application/vnd.colab-display-data+json": {
              "pip_warning": {
                "packages": [
                  "joblib",
                  "numpy",
                  "surprise"
                ]
              },
              "id": "32f4e70c019a49938a0b22ba508cd30e"
            }
          },
          "metadata": {}
        }
      ]
    },
    {
      "cell_type": "code",
      "source": [
        "# Re-import necessary libraries to make sure everything is working\n",
        "from surprise import Dataset, Reader, SVD\n",
        "from surprise.model_selection import train_test_split\n",
        "from surprise import accuracy\n",
        "import pandas as pd\n",
        "\n",
        "print(\"🔥 All set. Surprise and NumPy are working!\")\n"
      ],
      "metadata": {
        "colab": {
          "base_uri": "https://localhost:8080/"
        },
        "id": "x9fA7AKaRtob",
        "outputId": "dec2fbda-aa71-4f9a-e8ba-1d77e7c0a8f7"
      },
      "execution_count": null,
      "outputs": [
        {
          "output_type": "stream",
          "name": "stdout",
          "text": [
            "🔥 All set. Surprise and NumPy are working!\n"
          ]
        }
      ]
    },
    {
      "cell_type": "code",
      "source": [
        "from surprise import Dataset, Reader, SVD\n",
        "from surprise.model_selection import train_test_split\n",
        "from surprise import accuracy\n",
        "import pandas as pd\n"
      ],
      "metadata": {
        "id": "rM6jNvqcSpZy"
      },
      "execution_count": null,
      "outputs": []
    },
    {
      "cell_type": "code",
      "source": [
        "import random\n",
        "\n",
        "# Create 1000 fake user IDs\n",
        "user_ids = [f\"user_{i}\" for i in range(1, 1001)]\n",
        "\n",
        "# Create a list to store user-product-rating interactions\n",
        "ratings_data = []\n",
        "\n",
        "# Each product gets rated by 1 to 5 users randomly\n",
        "for index, row in df.iterrows():\n",
        "    for _ in range(random.randint(1, 5)):\n",
        "        user = random.choice(user_ids)\n",
        "        rating = row['rating']\n",
        "        if pd.notnull(rating):  # Only include if rating exists\n",
        "            ratings_data.append([user, row['product'], float(rating)])\n",
        "\n",
        "# Convert to a new DataFrame\n",
        "ratings_df = pd.DataFrame(ratings_data, columns=[\"user_id\", \"product\", \"rating\"])\n",
        "\n",
        "# Check it\n",
        "ratings_df.head()\n"
      ],
      "metadata": {
        "colab": {
          "base_uri": "https://localhost:8080/",
          "height": 206
        },
        "id": "2TiUEp6wUw4N",
        "outputId": "868473c7-6b9a-4c7d-c6cb-19a806776e2f"
      },
      "execution_count": null,
      "outputs": [
        {
          "output_type": "execute_result",
          "data": {
            "text/plain": [
              "    user_id                                         product  rating\n",
              "0  user_958  Knutzella Bar Bites - Mini, Gluten-free, Vegan     2.0\n",
              "1  user_895  Knutzella Bar Bites - Mini, Gluten-free, Vegan     2.0\n",
              "2   user_87  Knutzella Bar Bites - Mini, Gluten-free, Vegan     2.0\n",
              "3  user_831  Knutzella Bar Bites - Mini, Gluten-free, Vegan     2.0\n",
              "4  user_618                Standard Large - 34 Diaper Pants     4.2"
            ],
            "text/html": [
              "\n",
              "  <div id=\"df-ae51d1b7-ca2a-4049-9c24-6c6d0e84dcff\" class=\"colab-df-container\">\n",
              "    <div>\n",
              "<style scoped>\n",
              "    .dataframe tbody tr th:only-of-type {\n",
              "        vertical-align: middle;\n",
              "    }\n",
              "\n",
              "    .dataframe tbody tr th {\n",
              "        vertical-align: top;\n",
              "    }\n",
              "\n",
              "    .dataframe thead th {\n",
              "        text-align: right;\n",
              "    }\n",
              "</style>\n",
              "<table border=\"1\" class=\"dataframe\">\n",
              "  <thead>\n",
              "    <tr style=\"text-align: right;\">\n",
              "      <th></th>\n",
              "      <th>user_id</th>\n",
              "      <th>product</th>\n",
              "      <th>rating</th>\n",
              "    </tr>\n",
              "  </thead>\n",
              "  <tbody>\n",
              "    <tr>\n",
              "      <th>0</th>\n",
              "      <td>user_958</td>\n",
              "      <td>Knutzella Bar Bites - Mini, Gluten-free, Vegan</td>\n",
              "      <td>2.0</td>\n",
              "    </tr>\n",
              "    <tr>\n",
              "      <th>1</th>\n",
              "      <td>user_895</td>\n",
              "      <td>Knutzella Bar Bites - Mini, Gluten-free, Vegan</td>\n",
              "      <td>2.0</td>\n",
              "    </tr>\n",
              "    <tr>\n",
              "      <th>2</th>\n",
              "      <td>user_87</td>\n",
              "      <td>Knutzella Bar Bites - Mini, Gluten-free, Vegan</td>\n",
              "      <td>2.0</td>\n",
              "    </tr>\n",
              "    <tr>\n",
              "      <th>3</th>\n",
              "      <td>user_831</td>\n",
              "      <td>Knutzella Bar Bites - Mini, Gluten-free, Vegan</td>\n",
              "      <td>2.0</td>\n",
              "    </tr>\n",
              "    <tr>\n",
              "      <th>4</th>\n",
              "      <td>user_618</td>\n",
              "      <td>Standard Large - 34 Diaper Pants</td>\n",
              "      <td>4.2</td>\n",
              "    </tr>\n",
              "  </tbody>\n",
              "</table>\n",
              "</div>\n",
              "    <div class=\"colab-df-buttons\">\n",
              "\n",
              "  <div class=\"colab-df-container\">\n",
              "    <button class=\"colab-df-convert\" onclick=\"convertToInteractive('df-ae51d1b7-ca2a-4049-9c24-6c6d0e84dcff')\"\n",
              "            title=\"Convert this dataframe to an interactive table.\"\n",
              "            style=\"display:none;\">\n",
              "\n",
              "  <svg xmlns=\"http://www.w3.org/2000/svg\" height=\"24px\" viewBox=\"0 -960 960 960\">\n",
              "    <path d=\"M120-120v-720h720v720H120Zm60-500h600v-160H180v160Zm220 220h160v-160H400v160Zm0 220h160v-160H400v160ZM180-400h160v-160H180v160Zm440 0h160v-160H620v160ZM180-180h160v-160H180v160Zm440 0h160v-160H620v160Z\"/>\n",
              "  </svg>\n",
              "    </button>\n",
              "\n",
              "  <style>\n",
              "    .colab-df-container {\n",
              "      display:flex;\n",
              "      gap: 12px;\n",
              "    }\n",
              "\n",
              "    .colab-df-convert {\n",
              "      background-color: #E8F0FE;\n",
              "      border: none;\n",
              "      border-radius: 50%;\n",
              "      cursor: pointer;\n",
              "      display: none;\n",
              "      fill: #1967D2;\n",
              "      height: 32px;\n",
              "      padding: 0 0 0 0;\n",
              "      width: 32px;\n",
              "    }\n",
              "\n",
              "    .colab-df-convert:hover {\n",
              "      background-color: #E2EBFA;\n",
              "      box-shadow: 0px 1px 2px rgba(60, 64, 67, 0.3), 0px 1px 3px 1px rgba(60, 64, 67, 0.15);\n",
              "      fill: #174EA6;\n",
              "    }\n",
              "\n",
              "    .colab-df-buttons div {\n",
              "      margin-bottom: 4px;\n",
              "    }\n",
              "\n",
              "    [theme=dark] .colab-df-convert {\n",
              "      background-color: #3B4455;\n",
              "      fill: #D2E3FC;\n",
              "    }\n",
              "\n",
              "    [theme=dark] .colab-df-convert:hover {\n",
              "      background-color: #434B5C;\n",
              "      box-shadow: 0px 1px 3px 1px rgba(0, 0, 0, 0.15);\n",
              "      filter: drop-shadow(0px 1px 2px rgba(0, 0, 0, 0.3));\n",
              "      fill: #FFFFFF;\n",
              "    }\n",
              "  </style>\n",
              "\n",
              "    <script>\n",
              "      const buttonEl =\n",
              "        document.querySelector('#df-ae51d1b7-ca2a-4049-9c24-6c6d0e84dcff button.colab-df-convert');\n",
              "      buttonEl.style.display =\n",
              "        google.colab.kernel.accessAllowed ? 'block' : 'none';\n",
              "\n",
              "      async function convertToInteractive(key) {\n",
              "        const element = document.querySelector('#df-ae51d1b7-ca2a-4049-9c24-6c6d0e84dcff');\n",
              "        const dataTable =\n",
              "          await google.colab.kernel.invokeFunction('convertToInteractive',\n",
              "                                                    [key], {});\n",
              "        if (!dataTable) return;\n",
              "\n",
              "        const docLinkHtml = 'Like what you see? Visit the ' +\n",
              "          '<a target=\"_blank\" href=https://colab.research.google.com/notebooks/data_table.ipynb>data table notebook</a>'\n",
              "          + ' to learn more about interactive tables.';\n",
              "        element.innerHTML = '';\n",
              "        dataTable['output_type'] = 'display_data';\n",
              "        await google.colab.output.renderOutput(dataTable, element);\n",
              "        const docLink = document.createElement('div');\n",
              "        docLink.innerHTML = docLinkHtml;\n",
              "        element.appendChild(docLink);\n",
              "      }\n",
              "    </script>\n",
              "  </div>\n",
              "\n",
              "\n",
              "<div id=\"df-2cec407c-4b00-46f4-b181-8b8d1befa7b8\">\n",
              "  <button class=\"colab-df-quickchart\" onclick=\"quickchart('df-2cec407c-4b00-46f4-b181-8b8d1befa7b8')\"\n",
              "            title=\"Suggest charts\"\n",
              "            style=\"display:none;\">\n",
              "\n",
              "<svg xmlns=\"http://www.w3.org/2000/svg\" height=\"24px\"viewBox=\"0 0 24 24\"\n",
              "     width=\"24px\">\n",
              "    <g>\n",
              "        <path d=\"M19 3H5c-1.1 0-2 .9-2 2v14c0 1.1.9 2 2 2h14c1.1 0 2-.9 2-2V5c0-1.1-.9-2-2-2zM9 17H7v-7h2v7zm4 0h-2V7h2v10zm4 0h-2v-4h2v4z\"/>\n",
              "    </g>\n",
              "</svg>\n",
              "  </button>\n",
              "\n",
              "<style>\n",
              "  .colab-df-quickchart {\n",
              "      --bg-color: #E8F0FE;\n",
              "      --fill-color: #1967D2;\n",
              "      --hover-bg-color: #E2EBFA;\n",
              "      --hover-fill-color: #174EA6;\n",
              "      --disabled-fill-color: #AAA;\n",
              "      --disabled-bg-color: #DDD;\n",
              "  }\n",
              "\n",
              "  [theme=dark] .colab-df-quickchart {\n",
              "      --bg-color: #3B4455;\n",
              "      --fill-color: #D2E3FC;\n",
              "      --hover-bg-color: #434B5C;\n",
              "      --hover-fill-color: #FFFFFF;\n",
              "      --disabled-bg-color: #3B4455;\n",
              "      --disabled-fill-color: #666;\n",
              "  }\n",
              "\n",
              "  .colab-df-quickchart {\n",
              "    background-color: var(--bg-color);\n",
              "    border: none;\n",
              "    border-radius: 50%;\n",
              "    cursor: pointer;\n",
              "    display: none;\n",
              "    fill: var(--fill-color);\n",
              "    height: 32px;\n",
              "    padding: 0;\n",
              "    width: 32px;\n",
              "  }\n",
              "\n",
              "  .colab-df-quickchart:hover {\n",
              "    background-color: var(--hover-bg-color);\n",
              "    box-shadow: 0 1px 2px rgba(60, 64, 67, 0.3), 0 1px 3px 1px rgba(60, 64, 67, 0.15);\n",
              "    fill: var(--button-hover-fill-color);\n",
              "  }\n",
              "\n",
              "  .colab-df-quickchart-complete:disabled,\n",
              "  .colab-df-quickchart-complete:disabled:hover {\n",
              "    background-color: var(--disabled-bg-color);\n",
              "    fill: var(--disabled-fill-color);\n",
              "    box-shadow: none;\n",
              "  }\n",
              "\n",
              "  .colab-df-spinner {\n",
              "    border: 2px solid var(--fill-color);\n",
              "    border-color: transparent;\n",
              "    border-bottom-color: var(--fill-color);\n",
              "    animation:\n",
              "      spin 1s steps(1) infinite;\n",
              "  }\n",
              "\n",
              "  @keyframes spin {\n",
              "    0% {\n",
              "      border-color: transparent;\n",
              "      border-bottom-color: var(--fill-color);\n",
              "      border-left-color: var(--fill-color);\n",
              "    }\n",
              "    20% {\n",
              "      border-color: transparent;\n",
              "      border-left-color: var(--fill-color);\n",
              "      border-top-color: var(--fill-color);\n",
              "    }\n",
              "    30% {\n",
              "      border-color: transparent;\n",
              "      border-left-color: var(--fill-color);\n",
              "      border-top-color: var(--fill-color);\n",
              "      border-right-color: var(--fill-color);\n",
              "    }\n",
              "    40% {\n",
              "      border-color: transparent;\n",
              "      border-right-color: var(--fill-color);\n",
              "      border-top-color: var(--fill-color);\n",
              "    }\n",
              "    60% {\n",
              "      border-color: transparent;\n",
              "      border-right-color: var(--fill-color);\n",
              "    }\n",
              "    80% {\n",
              "      border-color: transparent;\n",
              "      border-right-color: var(--fill-color);\n",
              "      border-bottom-color: var(--fill-color);\n",
              "    }\n",
              "    90% {\n",
              "      border-color: transparent;\n",
              "      border-bottom-color: var(--fill-color);\n",
              "    }\n",
              "  }\n",
              "</style>\n",
              "\n",
              "  <script>\n",
              "    async function quickchart(key) {\n",
              "      const quickchartButtonEl =\n",
              "        document.querySelector('#' + key + ' button');\n",
              "      quickchartButtonEl.disabled = true;  // To prevent multiple clicks.\n",
              "      quickchartButtonEl.classList.add('colab-df-spinner');\n",
              "      try {\n",
              "        const charts = await google.colab.kernel.invokeFunction(\n",
              "            'suggestCharts', [key], {});\n",
              "      } catch (error) {\n",
              "        console.error('Error during call to suggestCharts:', error);\n",
              "      }\n",
              "      quickchartButtonEl.classList.remove('colab-df-spinner');\n",
              "      quickchartButtonEl.classList.add('colab-df-quickchart-complete');\n",
              "    }\n",
              "    (() => {\n",
              "      let quickchartButtonEl =\n",
              "        document.querySelector('#df-2cec407c-4b00-46f4-b181-8b8d1befa7b8 button');\n",
              "      quickchartButtonEl.style.display =\n",
              "        google.colab.kernel.accessAllowed ? 'block' : 'none';\n",
              "    })();\n",
              "  </script>\n",
              "</div>\n",
              "\n",
              "    </div>\n",
              "  </div>\n"
            ],
            "application/vnd.google.colaboratory.intrinsic+json": {
              "type": "dataframe",
              "variable_name": "ratings_df",
              "summary": "{\n  \"name\": \"ratings_df\",\n  \"rows\": 10178,\n  \"fields\": [\n    {\n      \"column\": \"user_id\",\n      \"properties\": {\n        \"dtype\": \"category\",\n        \"num_unique_values\": 1000,\n        \"samples\": [\n          \"user_890\",\n          \"user_155\",\n          \"user_143\"\n        ],\n        \"semantic_type\": \"\",\n        \"description\": \"\"\n      }\n    },\n    {\n      \"column\": \"product\",\n      \"properties\": {\n        \"dtype\": \"category\",\n        \"num_unique_values\": 3272,\n        \"samples\": [\n          \"Whole Wheat Atta With Bran & Wheat Germ\",\n          \"Juice Strainer - Stainless Steel, Size No.6\",\n          \"Superior-Mp-Sharbati-Atta/Godihittu - Fortified\"\n        ],\n        \"semantic_type\": \"\",\n        \"description\": \"\"\n      }\n    },\n    {\n      \"column\": \"rating\",\n      \"properties\": {\n        \"dtype\": \"number\",\n        \"std\": 0.730255035513371,\n        \"min\": 1.0,\n        \"max\": 5.0,\n        \"num_unique_values\": 35,\n        \"samples\": [\n          2.7,\n          4.0,\n          4.9\n        ],\n        \"semantic_type\": \"\",\n        \"description\": \"\"\n      }\n    }\n  ]\n}"
            }
          },
          "metadata": {},
          "execution_count": 14
        }
      ]
    },
    {
      "cell_type": "code",
      "source": [
        "from surprise import Dataset, Reader\n",
        "\n",
        "# Define rating scale\n",
        "reader = Reader(rating_scale=(0, 5))\n",
        "\n",
        "# Load ratings into Surprise\n",
        "data = Dataset.load_from_df(ratings_df[['user_id', 'product', 'rating']], reader)\n"
      ],
      "metadata": {
        "id": "dN_KVcIWU4Ec"
      },
      "execution_count": null,
      "outputs": []
    },
    {
      "cell_type": "code",
      "source": [
        "from surprise import SVD\n",
        "from surprise.model_selection import train_test_split\n",
        "from surprise import accuracy\n",
        "\n",
        "# Train-test split\n",
        "trainset, testset = train_test_split(data, test_size=0.2)\n",
        "\n",
        "# Model\n",
        "model = SVD()\n",
        "model.fit(trainset)\n",
        "\n",
        "# Predict\n",
        "predictions = model.test(testset)\n",
        "accuracy.rmse(predictions)\n"
      ],
      "metadata": {
        "colab": {
          "base_uri": "https://localhost:8080/"
        },
        "id": "MgF3mE5LVCvP",
        "outputId": "6ae93873-230d-4648-f837-2c4bd1abf2d1"
      },
      "execution_count": null,
      "outputs": [
        {
          "output_type": "stream",
          "name": "stdout",
          "text": [
            "RMSE: 0.6361\n"
          ]
        },
        {
          "output_type": "execute_result",
          "data": {
            "text/plain": [
              "0.636058493405894"
            ]
          },
          "metadata": {},
          "execution_count": 16
        }
      ]
    },
    {
      "cell_type": "code",
      "source": [
        "df.columns\n"
      ],
      "metadata": {
        "colab": {
          "base_uri": "https://localhost:8080/"
        },
        "id": "dOVVu57aS_5L",
        "outputId": "3ebc5445-33c0-4ba4-b61a-64490a66928e"
      },
      "execution_count": null,
      "outputs": [
        {
          "output_type": "execute_result",
          "data": {
            "text/plain": [
              "Index(['index', 'product', 'category', 'sub_category', 'brand', 'sale_price',\n",
              "       'market_price', 'type', 'rating', 'description', 'features'],\n",
              "      dtype='object')"
            ]
          },
          "metadata": {},
          "execution_count": 17
        }
      ]
    },
    {
      "cell_type": "code",
      "source": [
        "# Create 1000 dummy users\n",
        "user_ids = [f\"user_{i}\" for i in range(1, 1001)]\n",
        "\n",
        "# Randomly assign users to products\n",
        "ratings_data = []\n",
        "for index, row in df.iterrows():\n",
        "    for _ in range(random.randint(1, 5)):  # Each product gets rated by 1–5 users\n",
        "        user = random.choice(user_ids)\n",
        "        rating = row['rating']\n",
        "        if pd.notnull(rating):\n",
        "            ratings_data.append([user, row['product'], float(rating)])\n",
        "\n",
        "# Convert to DataFrame\n",
        "ratings_df = pd.DataFrame(ratings_data, columns=[\"user_id\", \"product\", \"rating\"])\n",
        "\n",
        "print(ratings_df.head())\n"
      ],
      "metadata": {
        "colab": {
          "base_uri": "https://localhost:8080/"
        },
        "id": "EebXwrjzTTvP",
        "outputId": "136cc1b5-e5a3-4f97-e986-0ed1094e8542"
      },
      "execution_count": null,
      "outputs": [
        {
          "output_type": "stream",
          "name": "stdout",
          "text": [
            "    user_id                                         product  rating\n",
            "0  user_879  Knutzella Bar Bites - Mini, Gluten-free, Vegan     2.0\n",
            "1  user_477  Knutzella Bar Bites - Mini, Gluten-free, Vegan     2.0\n",
            "2  user_261  Knutzella Bar Bites - Mini, Gluten-free, Vegan     2.0\n",
            "3  user_464  Knutzella Bar Bites - Mini, Gluten-free, Vegan     2.0\n",
            "4  user_842                Standard Large - 34 Diaper Pants     4.2\n"
          ]
        }
      ]
    },
    {
      "cell_type": "code",
      "source": [
        "# Recommend top N products to a user\n",
        "def recommend_for_user(user_id, df, model, n=5):\n",
        "    all_products = df['product'].unique()\n",
        "    already_rated = ratings_df[ratings_df['user_id'] == user_id]['product'].tolist()\n",
        "    products_to_predict = [p for p in all_products if p not in already_rated]\n",
        "\n",
        "    predicted_ratings = []\n",
        "    for product in products_to_predict:\n",
        "        pred = model.predict(user_id, product)\n",
        "        predicted_ratings.append((product, pred.est))\n",
        "\n",
        "    # Sort by predicted rating\n",
        "    recommended = sorted(predicted_ratings, key=lambda x: x[1], reverse=True)[:n]\n",
        "    return [prod for prod, _ in recommended]\n",
        "\n",
        "# Test it\n",
        "test_user = ratings_df['user_id'].iloc[0]\n",
        "print(f\"Recommended products for {test_user}:\")\n",
        "print(recommend_for_user(test_user, df, model))\n"
      ],
      "metadata": {
        "colab": {
          "base_uri": "https://localhost:8080/"
        },
        "id": "iHuLOUa3VKoX",
        "outputId": "c0d11292-4954-42e3-fc5c-764e9acd5fc2"
      },
      "execution_count": null,
      "outputs": [
        {
          "output_type": "stream",
          "name": "stdout",
          "text": [
            "Recommended products for user_879:\n",
            "['Utensils Drying Microfiber Mat - Blue, BB1430', 'Vetiver Hydrosol Floral Water', 'Whisky Juice Glass Set - Sirocco Rock', 'Blush - Shine & Glow Serum', 'Grooming Comb - GRC1004, Colour May Vary']\n"
          ]
        }
      ]
    },
    {
      "cell_type": "markdown",
      "source": [
        "PHASE 3"
      ],
      "metadata": {
        "id": "G5pUp4v4V-7L"
      }
    },
    {
      "cell_type": "code",
      "source": [
        "def hybrid_recommendation(user_id, product_name, tfidf_weight=0.5, svd_weight=0.5, n=5):\n",
        "    # TF-IDF recommendations\n",
        "    tfidf_recs = recommend_products(product_name, num_recommendations=20)  # content-based\n",
        "    tfidf_scores = {prod: (20 - i) * tfidf_weight for i, prod in enumerate(tfidf_recs)}\n",
        "\n",
        "    # SVD predictions\n",
        "    svd_preds = []\n",
        "    for prod in tfidf_recs:\n",
        "        try:\n",
        "            pred = model.predict(user_id, prod).est\n",
        "            svd_preds.append((prod, pred * svd_weight))\n",
        "        except:\n",
        "            continue\n",
        "\n",
        "    # Combine scores\n",
        "    final_scores = {}\n",
        "    for prod, svd_score in svd_preds:\n",
        "        final_scores[prod] = tfidf_scores.get(prod, 0) + svd_score\n",
        "\n",
        "    # Sort and recommend\n",
        "    sorted_recs = sorted(final_scores.items(), key=lambda x: x[1], reverse=True)[:n]\n",
        "    return [prod for prod, _ in sorted_recs]\n",
        "\n",
        "# Test hybrid system\n",
        "test_user = ratings_df['user_id'].iloc[5]\n",
        "print(f\"Hybrid recommendations for {test_user}:\")\n",
        "print(hybrid_recommendation(test_user, \"tea\"))\n"
      ],
      "metadata": {
        "colab": {
          "base_uri": "https://localhost:8080/"
        },
        "id": "ubCH6T6jVLOo",
        "outputId": "4b8c2a12-6495-4354-a8a1-c05bbf41ed09"
      },
      "execution_count": null,
      "outputs": [
        {
          "output_type": "stream",
          "name": "stdout",
          "text": [
            "Hybrid recommendations for user_258:\n",
            "['Paper - A4, Excel Bond, 85 GSM', 'ScalGo Descaling Powder', 'Oil Pastels - 25+2 Colour Set, With Scraper, Diameter', 'Food Colour - Yellow', 'Laundry Powder']\n"
          ]
        }
      ]
    },
    {
      "cell_type": "code",
      "source": [],
      "metadata": {
        "id": "vmCgRmp2WKh_"
      },
      "execution_count": null,
      "outputs": []
    }
  ]
}